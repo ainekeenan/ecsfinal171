{
  "cells": [
    {
      "cell_type": "code",
      "execution_count": 4,
      "metadata": {
        "colab": {
          "base_uri": "https://localhost:8080/",
          "height": 85,
          "referenced_widgets": [
            "a0cfed55a3c7429f9e1405da763677ee",
            "40f055f552be4047972eaa6af15d8f59",
            "f701b213031443ea98bc4b01bc1724f9",
            "de9927ac5c3543d98d730b4e812cd6bd",
            "bc74c0f96a8b471dbe1f160fb34ff181"
          ]
        },
        "id": "bl3TYmb2NuQh",
        "outputId": "5310b4fe-7992-4e7f-ea35-c960d08cf19d"
      },
      "outputs": [
        {
          "data": {
            "application/vnd.jupyter.widget-view+json": {
              "model_id": "363565e5b709462a9ab6bda64e42681f",
              "version_major": 2,
              "version_minor": 0
            },
            "text/plain": [
              "VBox(children=(HTML(value='<center> <img\\nsrc=https://www.kaggle.com/static/images/site-logo.png\\nalt=\\'Kaggle…"
            ]
          },
          "metadata": {},
          "output_type": "display_data"
        }
      ],
      "source": [
        "import kagglehub\n",
        "import numpy as np\n",
        "import pandas as pd\n",
        "import seaborn as sns\n",
        "import matplotlib.pyplot as plt\n",
        "import os\n",
        "from sklearn.preprocessing import StandardScaler, MinMaxScaler\n",
        "\n",
        "kagglehub.login()"
      ]
    },
    {
      "cell_type": "markdown",
      "metadata": {},
      "source": [
        "# Gradient Boost"
      ]
    },
    {
      "cell_type": "markdown",
      "metadata": {},
      "source": [
        "This file turns the Gradient Boost Model into a .pkl file so we can use it in our frontend."
      ]
    },
    {
      "cell_type": "markdown",
      "metadata": {
        "id": "exTZVy77iwWk"
      },
      "source": [
        "## Import and Inspect the Data\n",
        "\n",
        "Import the data set."
      ]
    },
    {
      "cell_type": "code",
      "execution_count": 5,
      "metadata": {
        "colab": {
          "base_uri": "https://localhost:8080/"
        },
        "id": "A3PcgTQaPa0e",
        "outputId": "a2a79adf-01c8-4217-e701-68842e5e0f45"
      },
      "outputs": [
        {
          "name": "stdout",
          "output_type": "stream",
          "text": [
            "Downloading from https://www.kaggle.com/api/v1/datasets/download/maharshipandya/-spotify-tracks-dataset?dataset_version_number=1...\n"
          ]
        },
        {
          "name": "stderr",
          "output_type": "stream",
          "text": [
            "100%|██████████| 8.17M/8.17M [00:00<00:00, 13.7MB/s]"
          ]
        },
        {
          "name": "stdout",
          "output_type": "stream",
          "text": [
            "Extracting files...\n"
          ]
        },
        {
          "name": "stderr",
          "output_type": "stream",
          "text": [
            "\n"
          ]
        },
        {
          "name": "stdout",
          "output_type": "stream",
          "text": [
            "/Users/ainekeenan/.cache/kagglehub/datasets/maharshipandya/-spotify-tracks-dataset/versions/1\n"
          ]
        }
      ],
      "source": [
        "dataset_path = kagglehub.dataset_download(\"maharshipandya/-spotify-tracks-dataset\")\n",
        "print(dataset_path)"
      ]
    },
    {
      "cell_type": "markdown",
      "metadata": {
        "id": "uQ0c9j_o7wBM"
      },
      "source": [
        "Check how the data was imported. It is 1 CSV."
      ]
    },
    {
      "cell_type": "markdown",
      "metadata": {
        "id": "2UXLd9aN7tNn"
      },
      "source": [
        "Get the mean, count, and percentiles for each feature."
      ]
    },
    {
      "cell_type": "code",
      "execution_count": 8,
      "metadata": {
        "colab": {
          "base_uri": "https://localhost:8080/"
        },
        "id": "a6CvxHGm3DvW",
        "outputId": "f32f52a1-2cac-4f62-ad2e-457cb257f708"
      },
      "outputs": [
        {
          "name": "stdout",
          "output_type": "stream",
          "text": [
            "Shape of final dataframe with encoded genres: (114000, 130)\n",
            "\n",
            "Columns in the final dataframe:\n",
            "['Unnamed: 0', 'popularity', 'duration_ms', 'explicit', 'danceability', 'energy', 'key', 'loudness', 'mode', 'speechiness', 'acousticness', 'instrumentalness', 'liveness', 'valence', 'tempo', 'time_signature', 'acoustic', 'afrobeat', 'alt-rock', 'alternative', 'ambient', 'anime', 'black-metal', 'bluegrass', 'blues', 'brazil', 'breakbeat', 'british', 'cantopop', 'chicago-house', 'children', 'chill', 'classical', 'club', 'comedy', 'country', 'dance', 'dancehall', 'death-metal', 'deep-house', 'detroit-techno', 'disco', 'disney', 'drum-and-bass', 'dub', 'dubstep', 'edm', 'electro', 'electronic', 'emo', 'folk', 'forro', 'french', 'funk', 'garage', 'german', 'gospel', 'goth', 'grindcore', 'groove', 'grunge', 'guitar', 'happy', 'hard-rock', 'hardcore', 'hardstyle', 'heavy-metal', 'hip-hop', 'honky-tonk', 'house', 'idm', 'indian', 'indie', 'indie-pop', 'industrial', 'iranian', 'j-dance', 'j-idol', 'j-pop', 'j-rock', 'jazz', 'k-pop', 'kids', 'latin', 'latino', 'malay', 'mandopop', 'metal', 'metalcore', 'minimal-techno', 'mpb', 'new-age', 'opera', 'pagode', 'party', 'piano', 'pop', 'pop-film', 'power-pop', 'progressive-house', 'psych-rock', 'punk', 'punk-rock', 'r-n-b', 'reggae', 'reggaeton', 'rock', 'rock-n-roll', 'rockabilly', 'romance', 'sad', 'salsa', 'samba', 'sertanejo', 'show-tunes', 'singer-songwriter', 'ska', 'sleep', 'songwriter', 'soul', 'spanish', 'study', 'swedish', 'synth-pop', 'tango', 'techno', 'trance', 'trip-hop', 'turkish', 'world-music']\n",
            "\n",
            "First few rows of the cleaned dataframe (including track_genre):\n",
            "   Unnamed: 0  popularity  duration_ms  explicit  danceability  energy  key  \\\n",
            "0           0          73       230666     False         0.676  0.4610    1   \n",
            "1           1          55       149610     False         0.420  0.1660    1   \n",
            "2           2          57       210826     False         0.438  0.3590    0   \n",
            "3           3          71       201933     False         0.266  0.0596    0   \n",
            "4           4          82       198853     False         0.618  0.4430    2   \n",
            "\n",
            "   loudness  mode  speechiness  ...  spanish  study  swedish  synth-pop  \\\n",
            "0    -6.746     0       0.1430  ...      0.0    0.0      0.0        0.0   \n",
            "1   -17.235     1       0.0763  ...      0.0    0.0      0.0        0.0   \n",
            "2    -9.734     1       0.0557  ...      0.0    0.0      0.0        0.0   \n",
            "3   -18.515     1       0.0363  ...      0.0    0.0      0.0        0.0   \n",
            "4    -9.681     1       0.0526  ...      0.0    0.0      0.0        0.0   \n",
            "\n",
            "   tango  techno  trance  trip-hop  turkish  world-music  \n",
            "0    0.0     0.0     0.0       0.0      0.0          0.0  \n",
            "1    0.0     0.0     0.0       0.0      0.0          0.0  \n",
            "2    0.0     0.0     0.0       0.0      0.0          0.0  \n",
            "3    0.0     0.0     0.0       0.0      0.0          0.0  \n",
            "4    0.0     0.0     0.0       0.0      0.0          0.0  \n",
            "\n",
            "[5 rows x 130 columns]\n"
          ]
        }
      ],
      "source": [
        "from sklearn.preprocessing import OneHotEncoder\n",
        "\n",
        "df = pd.read_csv(dataset_path + \"/dataset.csv\")\n",
        "\n",
        "onehot = OneHotEncoder(sparse_output=False)\n",
        "genre_encoded = onehot.fit_transform(df[['track_genre']])\n",
        "genre_names = onehot.categories_[0]\n",
        "\n",
        "genre_encoded_df = pd.DataFrame(genre_encoded, columns=genre_names)\n",
        "\n",
        "columns_to_drop = ['track_id', 'artists', 'album_name', 'track_name', 'track_genre']\n",
        "df_with_encoded_genres = pd.concat([df, genre_encoded_df], axis=1)\n",
        "df_with_encoded_genres = df_with_encoded_genres.drop(columns=columns_to_drop)\n",
        "\n",
        "print(\"Shape of final dataframe with encoded genres:\", df_with_encoded_genres.shape)\n",
        "print(\"\\nColumns in the final dataframe:\")\n",
        "print(df_with_encoded_genres.columns.tolist())\n",
        "\n",
        "print(\"\\nFirst few rows of the cleaned dataframe (including track_genre):\")\n",
        "print(df_with_encoded_genres.head())"
      ]
    },
    {
      "cell_type": "code",
      "execution_count": 9,
      "metadata": {
        "colab": {
          "base_uri": "https://localhost:8080/",
          "height": 291
        },
        "id": "EbSQ0ggX2MkI",
        "outputId": "e891477b-93b9-4dfb-a69d-d46f1abc7cde"
      },
      "outputs": [
        {
          "name": "stdout",
          "output_type": "stream",
          "text": [
            "['Unnamed: 0', 'popularity', 'duration_ms', 'explicit', 'danceability', 'energy', 'key', 'loudness', 'mode', 'speechiness', 'acousticness', 'instrumentalness', 'liveness', 'valence', 'tempo', 'time_signature', 'acoustic', 'afrobeat', 'alt-rock', 'alternative', 'ambient', 'anime', 'black-metal', 'bluegrass', 'blues', 'brazil', 'breakbeat', 'british', 'cantopop', 'chicago-house', 'children', 'chill', 'classical', 'club', 'comedy', 'country', 'dance', 'dancehall', 'death-metal', 'deep-house', 'detroit-techno', 'disco', 'disney', 'drum-and-bass', 'dub', 'dubstep', 'edm', 'electro', 'electronic', 'emo', 'folk', 'forro', 'french', 'funk', 'garage', 'german', 'gospel', 'goth', 'grindcore', 'groove', 'grunge', 'guitar', 'happy', 'hard-rock', 'hardcore', 'hardstyle', 'heavy-metal', 'hip-hop', 'honky-tonk', 'house', 'idm', 'indian', 'indie', 'indie-pop', 'industrial', 'iranian', 'j-dance', 'j-idol', 'j-pop', 'j-rock', 'jazz', 'k-pop', 'kids', 'latin', 'latino', 'malay', 'mandopop', 'metal', 'metalcore', 'minimal-techno', 'mpb', 'new-age', 'opera', 'pagode', 'party', 'piano', 'pop', 'pop-film', 'power-pop', 'progressive-house', 'psych-rock', 'punk', 'punk-rock', 'r-n-b', 'reggae', 'reggaeton', 'rock', 'rock-n-roll', 'rockabilly', 'romance', 'sad', 'salsa', 'samba', 'sertanejo', 'show-tunes', 'singer-songwriter', 'ska', 'sleep', 'songwriter', 'soul', 'spanish', 'study', 'swedish', 'synth-pop', 'tango', 'techno', 'trance', 'trip-hop', 'turkish', 'world-music']\n"
          ]
        },
        {
          "data": {
            "text/html": [
              "<div>\n",
              "<style scoped>\n",
              "    .dataframe tbody tr th:only-of-type {\n",
              "        vertical-align: middle;\n",
              "    }\n",
              "\n",
              "    .dataframe tbody tr th {\n",
              "        vertical-align: top;\n",
              "    }\n",
              "\n",
              "    .dataframe thead th {\n",
              "        text-align: right;\n",
              "    }\n",
              "</style>\n",
              "<table border=\"1\" class=\"dataframe\">\n",
              "  <thead>\n",
              "    <tr style=\"text-align: right;\">\n",
              "      <th></th>\n",
              "      <th>Unnamed: 0</th>\n",
              "      <th>popularity</th>\n",
              "      <th>duration_ms</th>\n",
              "      <th>explicit</th>\n",
              "      <th>danceability</th>\n",
              "      <th>energy</th>\n",
              "      <th>key</th>\n",
              "      <th>loudness</th>\n",
              "      <th>mode</th>\n",
              "      <th>speechiness</th>\n",
              "      <th>...</th>\n",
              "      <th>spanish</th>\n",
              "      <th>study</th>\n",
              "      <th>swedish</th>\n",
              "      <th>synth-pop</th>\n",
              "      <th>tango</th>\n",
              "      <th>techno</th>\n",
              "      <th>trance</th>\n",
              "      <th>trip-hop</th>\n",
              "      <th>turkish</th>\n",
              "      <th>world-music</th>\n",
              "    </tr>\n",
              "  </thead>\n",
              "  <tbody>\n",
              "    <tr>\n",
              "      <th>0</th>\n",
              "      <td>0.000000</td>\n",
              "      <td>0.73</td>\n",
              "      <td>0.044043</td>\n",
              "      <td>0.0</td>\n",
              "      <td>0.686294</td>\n",
              "      <td>0.4610</td>\n",
              "      <td>0.090909</td>\n",
              "      <td>0.791392</td>\n",
              "      <td>0.0</td>\n",
              "      <td>0.148187</td>\n",
              "      <td>...</td>\n",
              "      <td>0.0</td>\n",
              "      <td>0.0</td>\n",
              "      <td>0.0</td>\n",
              "      <td>0.0</td>\n",
              "      <td>0.0</td>\n",
              "      <td>0.0</td>\n",
              "      <td>0.0</td>\n",
              "      <td>0.0</td>\n",
              "      <td>0.0</td>\n",
              "      <td>0.0</td>\n",
              "    </tr>\n",
              "    <tr>\n",
              "      <th>1</th>\n",
              "      <td>0.000009</td>\n",
              "      <td>0.55</td>\n",
              "      <td>0.028566</td>\n",
              "      <td>0.0</td>\n",
              "      <td>0.426396</td>\n",
              "      <td>0.1660</td>\n",
              "      <td>0.090909</td>\n",
              "      <td>0.597377</td>\n",
              "      <td>1.0</td>\n",
              "      <td>0.079067</td>\n",
              "      <td>...</td>\n",
              "      <td>0.0</td>\n",
              "      <td>0.0</td>\n",
              "      <td>0.0</td>\n",
              "      <td>0.0</td>\n",
              "      <td>0.0</td>\n",
              "      <td>0.0</td>\n",
              "      <td>0.0</td>\n",
              "      <td>0.0</td>\n",
              "      <td>0.0</td>\n",
              "      <td>0.0</td>\n",
              "    </tr>\n",
              "    <tr>\n",
              "      <th>2</th>\n",
              "      <td>0.000018</td>\n",
              "      <td>0.57</td>\n",
              "      <td>0.040255</td>\n",
              "      <td>0.0</td>\n",
              "      <td>0.444670</td>\n",
              "      <td>0.3590</td>\n",
              "      <td>0.000000</td>\n",
              "      <td>0.736123</td>\n",
              "      <td>1.0</td>\n",
              "      <td>0.057720</td>\n",
              "      <td>...</td>\n",
              "      <td>0.0</td>\n",
              "      <td>0.0</td>\n",
              "      <td>0.0</td>\n",
              "      <td>0.0</td>\n",
              "      <td>0.0</td>\n",
              "      <td>0.0</td>\n",
              "      <td>0.0</td>\n",
              "      <td>0.0</td>\n",
              "      <td>0.0</td>\n",
              "      <td>0.0</td>\n",
              "    </tr>\n",
              "    <tr>\n",
              "      <th>3</th>\n",
              "      <td>0.000026</td>\n",
              "      <td>0.71</td>\n",
              "      <td>0.038557</td>\n",
              "      <td>0.0</td>\n",
              "      <td>0.270051</td>\n",
              "      <td>0.0596</td>\n",
              "      <td>0.000000</td>\n",
              "      <td>0.573701</td>\n",
              "      <td>1.0</td>\n",
              "      <td>0.037617</td>\n",
              "      <td>...</td>\n",
              "      <td>0.0</td>\n",
              "      <td>0.0</td>\n",
              "      <td>0.0</td>\n",
              "      <td>0.0</td>\n",
              "      <td>0.0</td>\n",
              "      <td>0.0</td>\n",
              "      <td>0.0</td>\n",
              "      <td>0.0</td>\n",
              "      <td>0.0</td>\n",
              "      <td>0.0</td>\n",
              "    </tr>\n",
              "    <tr>\n",
              "      <th>4</th>\n",
              "      <td>0.000035</td>\n",
              "      <td>0.82</td>\n",
              "      <td>0.037969</td>\n",
              "      <td>0.0</td>\n",
              "      <td>0.627411</td>\n",
              "      <td>0.4430</td>\n",
              "      <td>0.181818</td>\n",
              "      <td>0.737103</td>\n",
              "      <td>1.0</td>\n",
              "      <td>0.054508</td>\n",
              "      <td>...</td>\n",
              "      <td>0.0</td>\n",
              "      <td>0.0</td>\n",
              "      <td>0.0</td>\n",
              "      <td>0.0</td>\n",
              "      <td>0.0</td>\n",
              "      <td>0.0</td>\n",
              "      <td>0.0</td>\n",
              "      <td>0.0</td>\n",
              "      <td>0.0</td>\n",
              "      <td>0.0</td>\n",
              "    </tr>\n",
              "  </tbody>\n",
              "</table>\n",
              "<p>5 rows × 130 columns</p>\n",
              "</div>"
            ],
            "text/plain": [
              "   Unnamed: 0  popularity  duration_ms  explicit  danceability  energy  \\\n",
              "0    0.000000        0.73     0.044043       0.0      0.686294  0.4610   \n",
              "1    0.000009        0.55     0.028566       0.0      0.426396  0.1660   \n",
              "2    0.000018        0.57     0.040255       0.0      0.444670  0.3590   \n",
              "3    0.000026        0.71     0.038557       0.0      0.270051  0.0596   \n",
              "4    0.000035        0.82     0.037969       0.0      0.627411  0.4430   \n",
              "\n",
              "        key  loudness  mode  speechiness  ...  spanish  study  swedish  \\\n",
              "0  0.090909  0.791392   0.0     0.148187  ...      0.0    0.0      0.0   \n",
              "1  0.090909  0.597377   1.0     0.079067  ...      0.0    0.0      0.0   \n",
              "2  0.000000  0.736123   1.0     0.057720  ...      0.0    0.0      0.0   \n",
              "3  0.000000  0.573701   1.0     0.037617  ...      0.0    0.0      0.0   \n",
              "4  0.181818  0.737103   1.0     0.054508  ...      0.0    0.0      0.0   \n",
              "\n",
              "   synth-pop  tango  techno  trance  trip-hop  turkish  world-music  \n",
              "0        0.0    0.0     0.0     0.0       0.0      0.0          0.0  \n",
              "1        0.0    0.0     0.0     0.0       0.0      0.0          0.0  \n",
              "2        0.0    0.0     0.0     0.0       0.0      0.0          0.0  \n",
              "3        0.0    0.0     0.0     0.0       0.0      0.0          0.0  \n",
              "4        0.0    0.0     0.0     0.0       0.0      0.0          0.0  \n",
              "\n",
              "[5 rows x 130 columns]"
            ]
          },
          "execution_count": 9,
          "metadata": {},
          "output_type": "execute_result"
        }
      ],
      "source": [
        "mmscaler = MinMaxScaler()\n",
        "mm_datax = mmscaler.fit_transform(df_with_encoded_genres)\n",
        "df_mm_data = pd.DataFrame(mm_datax, columns=df_with_encoded_genres.columns)\n",
        "print(df_mm_data.columns.tolist())\n",
        "df_mm_data.head()"
      ]
    },
    {
      "cell_type": "markdown",
      "metadata": {
        "id": "fr62R3ln58YU"
      },
      "source": [
        "#Gradient Boost"
      ]
    },
    {
      "cell_type": "code",
      "execution_count": 11,
      "metadata": {
        "colab": {
          "base_uri": "https://localhost:8080/"
        },
        "id": "ie89JWdn59sX",
        "outputId": "08d98900-481f-4cdc-f3b2-1c6c439a6727"
      },
      "outputs": [
        {
          "name": "stdout",
          "output_type": "stream",
          "text": [
            "\n",
            "Model Performance Metrics:\n",
            "Root Mean Squared Error: 0.1909\n",
            "Mean Absolute Error: 0.1485\n",
            "R-squared Score: 0.2711\n"
          ]
        },
        {
          "data": {
            "text/plain": [
              "['models/feature_columns_gb.pkl']"
            ]
          },
          "execution_count": 11,
          "metadata": {},
          "output_type": "execute_result"
        }
      ],
      "source": [
        "from sklearn.model_selection import train_test_split\n",
        "from sklearn.metrics import mean_squared_error, r2_score, mean_absolute_error\n",
        "import xgboost as xgb\n",
        "import joblib\n",
        "\n",
        "numerical_columns = ['popularity','duration_ms', 'danceability', 'energy', 'key',\n",
        "                    'loudness', 'mode', 'speechiness', 'acousticness', 'instrumentalness',\n",
        "                    'liveness', 'valence', 'tempo', 'time_signature']\n",
        "\n",
        "genre_columns = df_with_encoded_genres.columns.difference(numerical_columns)\n",
        "feature_columns = [col for col in numerical_columns if col != 'popularity']\n",
        "feature_columns.extend(genre_columns)\n",
        "\n",
        "feature_columns = [col for col in feature_columns if not col.startswith('Unnamed')]\n",
        "\n",
        "X = df_mm_data[feature_columns]\n",
        "y = df_mm_data['popularity']\n",
        "\n",
        "X_train, X_test, y_train, y_test = train_test_split(X, y, test_size = 0.25, random_state=24)\n",
        "\n",
        "xgb_model = xgb.XGBRegressor(\n",
        "    objective='reg:squarederror',\n",
        "    learning_rate=0.1,\n",
        "    max_depth=6,\n",
        "    n_estimators=100,\n",
        "    subsample=0.8,\n",
        "    colsample_bytree=0.8,\n",
        "    random_state=42\n",
        ")\n",
        "\n",
        "xgb_model.fit(X_train, y_train)\n",
        "y_pred = xgb_model.predict(X_test)\n",
        "\n",
        "mse = mean_squared_error(y_test, y_pred)\n",
        "rmse = np.sqrt(mse)\n",
        "mae = mean_absolute_error(y_test, y_pred)\n",
        "r2 = r2_score(y_test, y_pred)\n",
        "\n",
        "print(\"\\nModel Performance Metrics:\")\n",
        "print(f\"Root Mean Squared Error: {rmse:.4f}\")\n",
        "print(f\"Mean Absolute Error: {mae:.4f}\")\n",
        "print(f\"R-squared Score: {r2:.4f}\")\n",
        "\n",
        "joblib.dump(xgb_model, 'models/gradient_boost.pkl')\n",
        "joblib.dump(feature_columns, 'models/feature_columns_gb.pkl')\n"
      ]
    }
  ],
  "metadata": {
    "colab": {
      "provenance": [],
      "toc_visible": true
    },
    "kernelspec": {
      "display_name": "venv",
      "language": "python",
      "name": "python3"
    },
    "language_info": {
      "codemirror_mode": {
        "name": "ipython",
        "version": 3
      },
      "file_extension": ".py",
      "mimetype": "text/x-python",
      "name": "python",
      "nbconvert_exporter": "python",
      "pygments_lexer": "ipython3",
      "version": "3.11.3"
    },
    "widgets": {
      "application/vnd.jupyter.widget-state+json": {
        "40f055f552be4047972eaa6af15d8f59": {
          "model_module": "@jupyter-widgets/controls",
          "model_module_version": "1.5.0",
          "model_name": "LabelModel",
          "state": {
            "_dom_classes": [],
            "_model_module": "@jupyter-widgets/controls",
            "_model_module_version": "1.5.0",
            "_model_name": "LabelModel",
            "_view_count": null,
            "_view_module": "@jupyter-widgets/controls",
            "_view_module_version": "1.5.0",
            "_view_name": "LabelView",
            "description": "",
            "description_tooltip": null,
            "layout": "IPY_MODEL_de9927ac5c3543d98d730b4e812cd6bd",
            "placeholder": "​",
            "style": "IPY_MODEL_bc74c0f96a8b471dbe1f160fb34ff181",
            "value": "Kaggle credentials successfully validated."
          }
        },
        "a0cfed55a3c7429f9e1405da763677ee": {
          "model_module": "@jupyter-widgets/controls",
          "model_module_version": "1.5.0",
          "model_name": "VBoxModel",
          "state": {
            "_dom_classes": [],
            "_model_module": "@jupyter-widgets/controls",
            "_model_module_version": "1.5.0",
            "_model_name": "VBoxModel",
            "_view_count": null,
            "_view_module": "@jupyter-widgets/controls",
            "_view_module_version": "1.5.0",
            "_view_name": "VBoxView",
            "box_style": "",
            "children": [
              "IPY_MODEL_40f055f552be4047972eaa6af15d8f59"
            ],
            "layout": "IPY_MODEL_f701b213031443ea98bc4b01bc1724f9"
          }
        },
        "bc74c0f96a8b471dbe1f160fb34ff181": {
          "model_module": "@jupyter-widgets/controls",
          "model_module_version": "1.5.0",
          "model_name": "DescriptionStyleModel",
          "state": {
            "_model_module": "@jupyter-widgets/controls",
            "_model_module_version": "1.5.0",
            "_model_name": "DescriptionStyleModel",
            "_view_count": null,
            "_view_module": "@jupyter-widgets/base",
            "_view_module_version": "1.2.0",
            "_view_name": "StyleView",
            "description_width": ""
          }
        },
        "de9927ac5c3543d98d730b4e812cd6bd": {
          "model_module": "@jupyter-widgets/base",
          "model_module_version": "1.2.0",
          "model_name": "LayoutModel",
          "state": {
            "_model_module": "@jupyter-widgets/base",
            "_model_module_version": "1.2.0",
            "_model_name": "LayoutModel",
            "_view_count": null,
            "_view_module": "@jupyter-widgets/base",
            "_view_module_version": "1.2.0",
            "_view_name": "LayoutView",
            "align_content": null,
            "align_items": null,
            "align_self": null,
            "border": null,
            "bottom": null,
            "display": null,
            "flex": null,
            "flex_flow": null,
            "grid_area": null,
            "grid_auto_columns": null,
            "grid_auto_flow": null,
            "grid_auto_rows": null,
            "grid_column": null,
            "grid_gap": null,
            "grid_row": null,
            "grid_template_areas": null,
            "grid_template_columns": null,
            "grid_template_rows": null,
            "height": null,
            "justify_content": null,
            "justify_items": null,
            "left": null,
            "margin": null,
            "max_height": null,
            "max_width": null,
            "min_height": null,
            "min_width": null,
            "object_fit": null,
            "object_position": null,
            "order": null,
            "overflow": null,
            "overflow_x": null,
            "overflow_y": null,
            "padding": null,
            "right": null,
            "top": null,
            "visibility": null,
            "width": null
          }
        },
        "f701b213031443ea98bc4b01bc1724f9": {
          "model_module": "@jupyter-widgets/base",
          "model_module_version": "1.2.0",
          "model_name": "LayoutModel",
          "state": {
            "_model_module": "@jupyter-widgets/base",
            "_model_module_version": "1.2.0",
            "_model_name": "LayoutModel",
            "_view_count": null,
            "_view_module": "@jupyter-widgets/base",
            "_view_module_version": "1.2.0",
            "_view_name": "LayoutView",
            "align_content": null,
            "align_items": "center",
            "align_self": null,
            "border": null,
            "bottom": null,
            "display": "flex",
            "flex": null,
            "flex_flow": "column",
            "grid_area": null,
            "grid_auto_columns": null,
            "grid_auto_flow": null,
            "grid_auto_rows": null,
            "grid_column": null,
            "grid_gap": null,
            "grid_row": null,
            "grid_template_areas": null,
            "grid_template_columns": null,
            "grid_template_rows": null,
            "height": null,
            "justify_content": null,
            "justify_items": null,
            "left": null,
            "margin": null,
            "max_height": null,
            "max_width": null,
            "min_height": null,
            "min_width": null,
            "object_fit": null,
            "object_position": null,
            "order": null,
            "overflow": null,
            "overflow_x": null,
            "overflow_y": null,
            "padding": null,
            "right": null,
            "top": null,
            "visibility": null,
            "width": "50%"
          }
        }
      }
    }
  },
  "nbformat": 4,
  "nbformat_minor": 0
}
